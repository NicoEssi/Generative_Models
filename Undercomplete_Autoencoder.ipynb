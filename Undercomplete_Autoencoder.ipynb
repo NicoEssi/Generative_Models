{
  "nbformat": 4,
  "nbformat_minor": 0,
  "metadata": {
    "colab": {
      "name": "Undercomplete_Autoencoder.ipynb",
      "version": "0.3.2",
      "provenance": []
    },
    "kernelspec": {
      "name": "python3",
      "display_name": "Python 3"
    },
    "accelerator": "GPU"
  },
  "cells": [
    {
      "cell_type": "code",
      "metadata": {
        "id": "SU9IPYWIxvDA",
        "colab_type": "code",
        "colab": {
          "base_uri": "https://localhost:8080/",
          "height": 119
        },
        "outputId": "a1363266-7df0-42b0-e232-8fa6861726ba"
      },
      "source": [
        "!git clone https://github.com/NicoEssi/Undercomplete_Autoencoder.git"
      ],
      "execution_count": 2,
      "outputs": [
        {
          "output_type": "stream",
          "text": [
            "Cloning into 'Undercomplete_Autoencoder'...\n",
            "remote: Enumerating objects: 35, done.\u001b[K\n",
            "remote: Counting objects: 100% (35/35), done.\u001b[K\n",
            "remote: Compressing objects: 100% (34/34), done.\u001b[K\n",
            "remote: Total 35 (delta 15), reused 0 (delta 0), pack-reused 0\u001b[K\n",
            "Unpacking objects: 100% (35/35), done.\n"
          ],
          "name": "stdout"
        }
      ]
    },
    {
      "cell_type": "code",
      "metadata": {
        "id": "IeuT8gTMx4kI",
        "colab_type": "code",
        "colab": {}
      },
      "source": [
        "import numpy as np\n",
        "import pandas as pd\n",
        "import torch\n",
        "import torch.nn as nn\n",
        "import torch.nn.parallel\n",
        "import torch.optim as optim\n",
        "import torch.utils.data\n",
        "from torch.autograd import Variable\n",
        "import matplotlib.pyplot as plt"
      ],
      "execution_count": 0,
      "outputs": []
    },
    {
      "cell_type": "code",
      "metadata": {
        "id": "YMio_uIrybhk",
        "colab_type": "code",
        "colab": {}
      },
      "source": [
        "training_set0 = pd.read_csv(\"/content/Undercomplete_Autoencoder/MNIST/bindigit_trn.csv\", header = None)\n",
        "training_set0 = np.array(training_set0, dtype = \"int\")\n",
        "\n",
        "training_set1 = pd.read_csv(\"/content/Undercomplete_Autoencoder/MNIST/targetdigit_trn.csv\", header = None)\n",
        "#training_set1 = np.array(training_set1, dtype = \"int\")\n",
        "\n",
        "test_set0 = pd.read_csv(\"/content/Undercomplete_Autoencoder/MNIST/bindigit_tst.csv\", header = None)\n",
        "test_set0 = np.array(test_set0, dtype = \"int\")\n",
        "\n",
        "test_set1 = pd.read_csv(\"/content/Undercomplete_Autoencoder/MNIST/targetdigit_tst.csv\", header = None)\n",
        "#test_set1 = np.array(test_set1, dtype = \"int\")"
      ],
      "execution_count": 0,
      "outputs": []
    },
    {
      "cell_type": "code",
      "metadata": {
        "id": "rFsKBMxAymu6",
        "colab_type": "code",
        "colab": {
          "base_uri": "https://localhost:8080/",
          "height": 269
        },
        "outputId": "d228e99d-bb88-4328-8595-b5057f2fb217"
      },
      "source": [
        "def displayMNIST(data, index):\n",
        "    display_number = data[index, :]\n",
        "    display_number = display_number.reshape([28, 28])\n",
        "    plt.imshow(display_number, cmap='gray')\n",
        "    plt.show\n",
        "    \n",
        "def displayMNIST_alt(image):\n",
        "    image = image.reshape([28,28])\n",
        "    plt.imshow(image, cmap='gray')\n",
        "    plt.show\n",
        "\n",
        "displayMNIST(training_set0, 137) # test 0\n",
        "#displayMNIST(test_set0, 137) # test 0"
      ],
      "execution_count": 6,
      "outputs": [
        {
          "output_type": "display_data",
          "data": {
            "image/png": "[encoded data removed]",
            "text/plain": [
              "<Figure size 432x288 with 1 Axes>"
            ]
          },
          "metadata": {
            "tags": []
          }
        }
      ]
    },
    {
      "cell_type": "code",
      "metadata": {
        "id": "nWYrrhQqy3j2",
        "colab_type": "code",
        "colab": {}
      },
      "source": [
        "trn_data = torch.cuda.FloatTensor(training_set0)\n",
        "tst_data = torch.cuda.FloatTensor(test_set0)"
      ],
      "execution_count": 0,
      "outputs": []
    },
    {
      "cell_type": "code",
      "metadata": {
        "id": "W27VKkAjzLD1",
        "colab_type": "code",
        "colab": {}
      },
      "source": [
        "class autoenc(nn.Module):\n",
        "    def __init__(self, nodes = 100):\n",
        "        super(autoenc, self).__init__() # inheritence\n",
        "        self.full_connection0 = nn.Linear(784, nodes) # encoding weights\n",
        "        self.full_connection1 = nn.Linear(nodes, 784) # decoding weights\n",
        "        self.activation = nn.Sigmoid()\n",
        "        \n",
        "    def forward(self, x):\n",
        "        x = self.activation(self.full_connection0(x)) # input encoding\n",
        "        x = self.full_connection1(x) # output decoding\n",
        "        return x"
      ],
      "execution_count": 0,
      "outputs": []
    },
    {
      "cell_type": "code",
      "metadata": {
        "id": "9lsDcn4kzPh1",
        "colab_type": "code",
        "colab": {}
      },
      "source": [
        "model = autoenc().cuda() #.cuda() - to move to GPU\n",
        "criterion = nn.MSELoss()\n",
        "optimizer = optim.Adam(model.parameters(),\n",
        "                          lr = 1e-3, weight_decay = 1/2)\n",
        "\n"
      ],
      "execution_count": 0,
      "outputs": []
    },
    {
      "cell_type": "code",
      "metadata": {
        "id": "zp2JdJ3kzYm0",
        "colab_type": "code",
        "colab": {}
      },
      "source": [
        "num_epochs = 500\n",
        "batch_size = 32\n",
        "length = int(len(trn_data) / batch_size)"
      ],
      "execution_count": 0,
      "outputs": []
    },
    {
      "cell_type": "code",
      "metadata": {
        "id": "SdsfJDy5MyEz",
        "colab_type": "code",
        "colab": {}
      },
      "source": [
        ""
      ],
      "execution_count": 0,
      "outputs": []
    }
  ]
}